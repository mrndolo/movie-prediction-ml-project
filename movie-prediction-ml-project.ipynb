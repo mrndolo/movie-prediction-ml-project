{
 "cells": [
  {
   "cell_type": "code",
   "execution_count": 4,
   "id": "67c74e69-4052-4529-b7b9-19ae97850736",
   "metadata": {},
   "outputs": [
    {
     "data": {
      "text/plain": [
       "0          Action\n",
       "1          Action\n",
       "2          Action\n",
       "3          Sci-Fi\n",
       "4          Sci-Fi\n",
       "5          Sci-Fi\n",
       "6           Drama\n",
       "7           Drama\n",
       "8           Drama\n",
       "9          Comedy\n",
       "10         Comedy\n",
       "11         Comedy\n",
       "12    Documentary\n",
       "13    Documentary\n",
       "14    Documentary\n",
       "15          Drama\n",
       "16          Drama\n",
       "17          Drama\n",
       "Name: genre, dtype: object"
      ]
     },
     "execution_count": 4,
     "metadata": {},
     "output_type": "execute_result"
    }
   ],
   "source": [
    "import pandas as pd\n",
    "movies_data = pd.read_csv(\"movies.csv\")\n",
    "X = movies_data.drop(columns=['genre'])\n",
    "y = movies_data['genre']\n",
    "y"
   ]
  },
  {
   "cell_type": "code",
   "execution_count": null,
   "id": "f20f08bb-1a78-4b00-bd06-84bef71ed383",
   "metadata": {},
   "outputs": [],
   "source": []
  }
 ],
 "metadata": {
  "kernelspec": {
   "display_name": "Python 3 (ipykernel)",
   "language": "python",
   "name": "python3"
  },
  "language_info": {
   "codemirror_mode": {
    "name": "ipython",
    "version": 3
   },
   "file_extension": ".py",
   "mimetype": "text/x-python",
   "name": "python",
   "nbconvert_exporter": "python",
   "pygments_lexer": "ipython3",
   "version": "3.12.4"
  }
 },
 "nbformat": 4,
 "nbformat_minor": 5
}
